{
 "cells": [
  {
   "cell_type": "code",
   "execution_count": 338,
   "id": "5a2264a4-4748-44cc-afb6-48167053a1e2",
   "metadata": {},
   "outputs": [],
   "source": [
    "# ================ SETUP INICIAL ================ #\n",
    "\n",
    "import sys\n",
    "import os\n",
    "import importlib\n",
    "import pandas as pd\n",
    "import numpy as np\n",
    "import re\n",
    "\n",
    "# Añadimos el path del paquete local 'src/'\n",
    "sys.path.append(os.path.abspath(\"../src\"))\n",
    "\n",
    "# Recargamos módulo en caso de cambios recientes\n",
    "import procesar_zscore\n",
    "importlib.reload(procesar_zscore)\n",
    "\n",
    "from procesar_zscore import procesar_archivo, transformar_a_formato_largo"
   ]
  },
  {
   "cell_type": "code",
   "execution_count": 340,
   "id": "3bd99748-2380-4abe-a1ee-cb7eb85cc1e3",
   "metadata": {
    "tags": []
   },
   "outputs": [],
   "source": [
    "# ================ PARÁMETROS GENERALES ================ #\n",
    "\n",
    "# Años que forman el panel\n",
    "years = [2019, 2020, 2021, 2022, 2023]\n",
    "\n",
    "# Lista vacía para almacenar DataFrames anuales\n",
    "dfs = []"
   ]
  },
  {
   "cell_type": "code",
   "execution_count": 342,
   "id": "a0a3e93c-be52-46d4-9c02-94cee7ccbb2b",
   "metadata": {
    "tags": []
   },
   "outputs": [
    {
     "name": "stdout",
     "output_type": "stream",
     "text": [
      "Columnas disponibles en 2019: ['SP_ENTITY_NAME_2019', 'SP_ENTITY_ID_2019', 'SP_GEOGRAPHY_2019', 'SP_COMPANY_TYPE_2019', 'IQ_INDUSTRY_CLASSIFICATION_2019', 'SP_COMPANY_STATUS_2019', 'IQ_TOTAL_ASSETS_2019', 'IQ_TOTAL_REV_2019', 'IQ_TOTAL_DEBT_2019', 'IQ_INTEREST_EXP_2019', 'IQ_TOTAL_CA_2019', 'IQ_TOTAL_CL_2019', 'IQ_RETAINED_EARNINGS_2019', 'IQ_EBIT_2019', 'IQ_EBITDA_2019', 'SNL_PRETAX_INT_COV_EXCL_AFUDC_2019', 'year']\n",
      " 2019 columnas únicas\n",
      "Columnas disponibles en 2020: ['SP_ENTITY_NAME_2020', 'SP_ENTITY_ID_2020', 'SP_GEOGRAPHY_2020', 'SP_COMPANY_TYPE_2020', 'IQ_INDUSTRY_CLASSIFICATION_2020', 'SP_COMPANY_STATUS_2020', 'IQ_TOTAL_ASSETS_2020', 'IQ_TOTAL_REV_2020', 'IQ_TOTAL_DEBT_2020', 'IQ_INTEREST_EXP_2020', 'IQ_TOTAL_CA_2020', 'IQ_TOTAL_CL_2020', 'IQ_RETAINED_EARNINGS_2020', 'IQ_EBIT_2020', 'IQ_EBITDA_2020', 'SNL_PRETAX_INT_COV_EXCL_AFUDC_2020', 'year']\n",
      " 2020 columnas únicas\n",
      "Columnas disponibles en 2021: ['SP_ENTITY_NAME_2021', 'SP_ENTITY_ID_2021', 'SP_GEOGRAPHY_2021', 'SP_COMPANY_TYPE_2021', 'IQ_INDUSTRY_CLASSIFICATION_2021', 'SP_COMPANY_STATUS_2021', 'IQ_TOTAL_ASSETS_2021', 'IQ_TOTAL_REV_2021', 'IQ_TOTAL_DEBT_2021', 'IQ_INTEREST_EXP_2021', 'IQ_TOTAL_CA_2021', 'IQ_TOTAL_CL_2021', 'IQ_RETAINED_EARNINGS_2021', 'IQ_EBIT_2021', 'IQ_EBITDA_2021', 'SNL_PRETAX_INT_COV_EXCL_AFUDC_2021', 'year']\n",
      " 2021 columnas únicas\n",
      "Columnas disponibles en 2022: ['SP_ENTITY_NAME_2022', 'SP_ENTITY_ID_2022', 'SP_GEOGRAPHY_2022', 'SP_COMPANY_TYPE_2022', 'IQ_INDUSTRY_CLASSIFICATION_2022', 'SP_COMPANY_STATUS_2022', 'IQ_TOTAL_ASSETS_2022', 'IQ_TOTAL_REV_2022', 'IQ_TOTAL_DEBT_2022', 'IQ_INTEREST_EXP_2022', 'IQ_TOTAL_CA_2022', 'IQ_TOTAL_CL_2022', 'IQ_RETAINED_EARNINGS_2022', 'IQ_EBIT_2022', 'IQ_EBITDA_2022', 'SNL_PRETAX_INT_COV_EXCL_AFUDC_2022', 'year']\n",
      " 2022 columnas únicas\n",
      "Columnas disponibles en 2023: ['SP_ENTITY_NAME_2023', 'SP_ENTITY_ID_2023', 'SP_GEOGRAPHY_2023', 'SP_COMPANY_TYPE_2023', 'IQ_INDUSTRY_CLASSIFICATION_2023', 'SP_COMPANY_STATUS_2023', 'IQ_TOTAL_ASSETS_2023', 'IQ_TOTAL_REV_2023', 'IQ_TOTAL_DEBT_2023', 'IQ_INTEREST_EXP_2023', 'IQ_TOTAL_CA_2023', 'IQ_TOTAL_CL_2023', 'IQ_RETAINED_EARNINGS_2023', 'IQ_EBIT_2023', 'IQ_EBITDA_2023', 'SNL_PRETAX_INT_COV_EXCL_AFUDC_2023', 'year']\n",
      " 2023 columnas únicas\n"
     ]
    }
   ],
   "source": [
    "# ================ PROCESAMIENTO DE ARCHIVOS ================ #\n",
    "\n",
    "for year in years:\n",
    "    file_path = f\"../data/zscore_sample{year}.csv\"\n",
    "    df_year = procesar_archivo(file_path, year)\n",
    "\n",
    "    # Verificamos si hay columnas duplicadas en el DataFrame procesado\n",
    "    duplicated_cols = df_year.columns[df_year.columns.duplicated()].tolist()\n",
    "    if duplicated_cols:\n",
    "        print(f\" {year} tiene columnas duplicadas: {duplicated_cols}\")\n",
    "    else:\n",
    "        print(f\" {year} columnas únicas\")\n",
    "\n",
    "    dfs.append(df_year)"
   ]
  },
  {
   "cell_type": "code",
   "execution_count": 344,
   "id": "2d677231-8567-4f62-9ff6-dc2fbf17c9cb",
   "metadata": {
    "tags": []
   },
   "outputs": [],
   "source": [
    "# Unimos todos los años en un solo panel longitudinal\n",
    "df_panel = pd.concat(dfs, axis=0).reset_index(drop=True)"
   ]
  },
  {
   "cell_type": "code",
   "execution_count": 345,
   "id": "f4ea2cb1-a9d1-47b4-9d66-f77f3fa18805",
   "metadata": {
    "tags": []
   },
   "outputs": [],
   "source": [
    "df_panel.replace(\"\", np.nan, inplace=True) # Aseguramos que las celdas vacías sean tratadas como NaN"
   ]
  },
  {
   "cell_type": "code",
   "execution_count": 346,
   "id": "0c251077-fb7f-4cbc-997b-9a86d46b29ca",
   "metadata": {
    "tags": []
   },
   "outputs": [],
   "source": [
    "# Eliminamos filas completamente vacías (excepto 'year')\n",
    "df_panel = df_panel.dropna(subset=[col for col in df_panel.columns if col != 'year'], how='all').reset_index(drop=True)"
   ]
  },
  {
   "cell_type": "code",
   "execution_count": 350,
   "id": "3819f6c3-f08c-45a2-887f-228cae83cefc",
   "metadata": {
    "tags": []
   },
   "outputs": [
    {
     "data": {
      "text/plain": [
       "[]"
      ]
     },
     "execution_count": 350,
     "metadata": {},
     "output_type": "execute_result"
    }
   ],
   "source": [
    "[col for col in df_panel.columns if \"dup\" in col]"
   ]
  },
  {
   "cell_type": "code",
   "execution_count": 352,
   "id": "9e0c21ef-3d05-474d-9ab3-6bede049edfb",
   "metadata": {
    "tags": []
   },
   "outputs": [],
   "source": [
    "# ================ LIMPIEZA DE VARIABLES NUMÉRICAS (IQ_) ================ #\n",
    "\n",
    "# Creamos función para limpieza numérica\n",
    "\n",
    "def limpiar_columna_numerica(col):\n",
    "    \"\"\"\n",
    "    Transforma columnas con números en formato texto (contable) a float:\n",
    "    - Convierte (1,234) en -1234\n",
    "    - Elimina comas, espacios\n",
    "    - Reemplaza 'NM', '--', '', etc. por np.nan\n",
    "    \"\"\"\n",
    "    col_limpia = (\n",
    "        col.astype(str) # Primero convertimos todo a texto para hacer modificaciones\n",
    "           .str.replace(\",\", \"\", regex=False)\n",
    "           .str.replace(\"(\", \"-\", regex=False)\n",
    "           .str.replace(\")\", \"\", regex=False)\n",
    "           .str.replace(r\"\\b(NM|NA|--|n/a|N/A)\\b\", \"\", regex=True) # Aplicamos raw string para valores no numéricos comunes en bases de datos\n",
    "           .str.strip()\n",
    "    )\n",
    "    return pd.to_numeric(col_limpia.replace(\"\", np.nan), errors=\"coerce\") # Reemplazamos valores vacíos y lo devolvemos a valor numérico y, si hay error, lo hacemos NaN"
   ]
  },
  {
   "cell_type": "code",
   "execution_count": 354,
   "id": "f60b1986-e000-45b6-8a05-bae1c79af81e",
   "metadata": {
    "tags": []
   },
   "outputs": [],
   "source": [
    "# Filtramos columnas IQ_ que contienen al menos un valor convertible a número\n",
    "cols_numericas = [\n",
    "    col for col in df_panel.columns\n",
    "    if col.startswith(\"IQ_\") and df_panel[col].str.replace(\",\", \"\").str.replace(\"(\", \"\").str.replace(\")\", \"\").str.strip().str.match(r\"^-?\\d+(\\.\\d+)?$\").sum() > 0\n",
    "]"
   ]
  },
  {
   "cell_type": "code",
   "execution_count": 356,
   "id": "6dc51530-5b20-40c6-b68a-3d3d479a132f",
   "metadata": {
    "tags": []
   },
   "outputs": [],
   "source": [
    "# Aplicamos limpieza a todas las columnas IQ_\n",
    "for col in cols_numericas:\n",
    "    df_panel[col] = limpiar_columna_numerica(df_panel[col])"
   ]
  },
  {
   "cell_type": "code",
   "execution_count": 357,
   "id": "8e38b4f5-3274-4a6d-830d-2651fe582f00",
   "metadata": {
    "tags": []
   },
   "outputs": [],
   "source": [
    "# ========== CONVERSIÓN A FORMATO LARGO ========== #\n",
    "\n",
    "df_panel_largo = transformar_a_formato_largo(df_panel)"
   ]
  },
  {
   "cell_type": "code",
   "execution_count": 359,
   "id": "cb635e84-d9b9-49e3-a83f-f4d7b48d89b6",
   "metadata": {
    "tags": []
   },
   "outputs": [
    {
     "name": "stdout",
     "output_type": "stream",
     "text": [
      "✅ Ratios Z-Score generados:\n",
      "['Z_X1_WORKING_CAPITAL_RATIO', 'Z_X2_RE_RATIO', 'Z_X3_EBIT_RATIO', 'Z_X5_SALES_RATIO']\n"
     ]
    }
   ],
   "source": [
    "# ================ CÁLCULO DE RATIOS PARA Z-SCORE ================ #\n",
    "\n",
    "# Creamos Working Capital primero\n",
    "df_panel_largo[\"IQ_WORKING_CAPITAL\"] = df_panel_largo[\"IQ_TOTAL_CA\"] - df_panel_largo[\"IQ_TOTAL_CL\"]\n",
    "\n",
    "# X1: Working Capital / Total Assets\n",
    "df_panel_largo[\"Z_X1_WORKING_CAPITAL_RATIO\"] = df_panel_largo[\"IQ_WORKING_CAPITAL\"] / df_panel_largo[\"IQ_TOTAL_ASSETS\"]\n",
    "\n",
    "# X2: Retained Earnings / Total Assets\n",
    "df_panel_largo[\"Z_X2_RE_RATIO\"] = df_panel_largo[\"IQ_RETAINED_EARNINGS\"] / df_panel_largo[\"IQ_TOTAL_ASSETS\"]\n",
    "\n",
    "# X3: EBIT / Total Assets\n",
    "df_panel_largo[\"Z_X3_EBIT_RATIO\"] = df_panel_largo[\"IQ_EBIT\"] / df_panel_largo[\"IQ_TOTAL_ASSETS\"]\n",
    "\n",
    "# X5: Sales / Total Assets\n",
    "df_panel_largo[\"Z_X5_SALES_RATIO\"] = df_panel_largo[\"IQ_TOTAL_REV\"] / df_panel_largo[\"IQ_TOTAL_ASSETS\"]\n",
    "\n",
    "# Confirmamos que las nuevas columnas se hayan creado\n",
    "print(\"✅ Ratios Z-Score generados:\")\n",
    "print(df_panel_largo.filter(regex=\"^Z_\").columns.tolist())"
   ]
  },
  {
   "cell_type": "code",
   "execution_count": 362,
   "id": "fd18e180-be4d-4883-a992-a2011d0e35d7",
   "metadata": {
    "tags": []
   },
   "outputs": [
    {
     "name": "stdout",
     "output_type": "stream",
     "text": [
      "✅ Registros válidos para modelar Z-Score: 64,722 de 198,360 (32.63%)\n"
     ]
    }
   ],
   "source": [
    "# ====================== FILTROS FINALES ====================== #\n",
    "\n",
    "# Indicador si la empresa tiene los 4 ratios completos\n",
    "df_panel_largo[\"datos_completos_zscore\"] = df_panel_largo.filter(regex=\"^Z_\").notna().all(axis=1)\n",
    "\n",
    "# Agregamos un flag para activos \"confiables\" (usamos >= 1,000 como umbral mínimo para evitar ratios explosivos)\n",
    "df_panel_largo[\"activo_valido\"] = df_panel_largo[\"IQ_TOTAL_ASSETS\"] >= 1000\n",
    "\n",
    "# Creamos una columna que indique si es un registro elegible para análisis de Z-Score\n",
    "df_panel_largo[\"registro_valido_modelo\"] = (\n",
    "    df_panel_largo[\"datos_completos_zscore\"] & \n",
    "    df_panel_largo[\"activo_valido\"]\n",
    ")\n",
    "\n",
    "# Reportamos cuántos registros son válidos\n",
    "total_validos = df_panel_largo[\"registro_valido_modelo\"].sum()\n",
    "print(f\"✅ Registros válidos para modelar Z-Score: {total_validos:,} de {len(df_panel_largo):,} ({total_validos/len(df_panel_largo):.2%})\")"
   ]
  },
  {
   "cell_type": "code",
   "execution_count": 364,
   "id": "8e1fa616-09f1-4bfe-b2d9-237c39785a6b",
   "metadata": {
    "tags": []
   },
   "outputs": [],
   "source": [
    "# Sustituimos valores infinitos por NaN\n",
    "df_panel_largo.replace([np.inf, -np.inf], np.nan, inplace=True)"
   ]
  },
  {
   "cell_type": "code",
   "execution_count": 366,
   "id": "29a9ea6e-4c44-4457-8f94-e91846ae645a",
   "metadata": {
    "tags": []
   },
   "outputs": [],
   "source": [
    "# Indicador de cuántos ratios Z fueron posibles de calcular por fila\n",
    "df_panel_largo[\"zscore_valid_ratios\"] = df_panel_largo.filter(regex=\"^Z_\").notna().sum(axis=1)"
   ]
  },
  {
   "cell_type": "code",
   "execution_count": 368,
   "id": "7ce286d5-c5aa-4eb7-b50c-f5237f92591f",
   "metadata": {
    "tags": []
   },
   "outputs": [],
   "source": [
    "# Filtro de outliers extremos en EBIT / Assets\n",
    "df_panel_largo = df_panel_largo[\n",
    "    (df_panel_largo[\"Z_X3_EBIT_RATIO\"].isna()) |\n",
    "    ((df_panel_largo[\"Z_X3_EBIT_RATIO\"] < 10) & (df_panel_largo[\"Z_X3_EBIT_RATIO\"] > -5))\n",
    "]"
   ]
  },
  {
   "cell_type": "code",
   "execution_count": 370,
   "id": "a25f7842-3dbc-4305-a896-affd41234095",
   "metadata": {
    "tags": []
   },
   "outputs": [
    {
     "name": "stdout",
     "output_type": "stream",
     "text": [
      "✅ Archivo exportado como: panel_zscore_largo.csv\n"
     ]
    }
   ],
   "source": [
    "# ========== EXPORTACIÓN ========== #\n",
    "\n",
    "df_panel_largo.to_csv(\"../outputs/panel_zscore_largo.csv\", index=False)\n",
    "print(\"✅ Archivo exportado como: panel_zscore_largo.csv\")"
   ]
  },
  {
   "cell_type": "code",
   "execution_count": 200,
   "id": "30fbf855-c810-4456-9a87-877443e92520",
   "metadata": {
    "tags": []
   },
   "outputs": [
    {
     "name": "stdout",
     "output_type": "stream",
     "text": [
      "(991800, 17)\n",
      "year                               int64\n",
      "SP_ENTITY_NAME                    object\n",
      "SP_ENTITY_ID                      object\n",
      "SP_GEOGRAPHY                      object\n",
      "SP_COMPANY_TYPE                   object\n",
      "IQ_INDUSTRY_CLASSIFICATION        object\n",
      "SP_COMPANY_STATUS                 object\n",
      "IQ_TOTAL_ASSETS                  float64\n",
      "IQ_TOTAL_REV                     float64\n",
      "IQ_TOTAL_DEBT                    float64\n",
      "IQ_INTEREST_EXP                  float64\n",
      "IQ_TOTAL_CA                      float64\n",
      "IQ_TOTAL_CL                      float64\n",
      "IQ_RETAINED_EARNINGS             float64\n",
      "IQ_EBIT                          float64\n",
      "IQ_EBITDA                        float64\n",
      "SNL_PRETAX_INT_COV_EXCL_AFUDC     object\n",
      "dtype: object\n",
      "\n",
      "Columnas con más nulos:\n",
      " SNL_PRETAX_INT_COV_EXCL_AFUDC    0.998591\n",
      "IQ_INTEREST_EXP                  0.937284\n",
      "IQ_EBITDA                        0.935529\n",
      "IQ_EBIT                          0.930044\n",
      "IQ_RETAINED_EARNINGS             0.911114\n",
      "IQ_TOTAL_REV                     0.908390\n",
      "IQ_TOTAL_CL                      0.907908\n",
      "IQ_TOTAL_DEBT                    0.907800\n",
      "IQ_TOTAL_CA                      0.907763\n",
      "IQ_TOTAL_ASSETS                  0.907707\n",
      "dtype: float64\n"
     ]
    },
    {
     "data": {
      "text/html": [
       "<div>\n",
       "<style scoped>\n",
       "    .dataframe tbody tr th:only-of-type {\n",
       "        vertical-align: middle;\n",
       "    }\n",
       "\n",
       "    .dataframe tbody tr th {\n",
       "        vertical-align: top;\n",
       "    }\n",
       "\n",
       "    .dataframe thead th {\n",
       "        text-align: right;\n",
       "    }\n",
       "</style>\n",
       "<table border=\"1\" class=\"dataframe\">\n",
       "  <thead>\n",
       "    <tr style=\"text-align: right;\">\n",
       "      <th></th>\n",
       "      <th>year</th>\n",
       "      <th>SP_ENTITY_NAME</th>\n",
       "      <th>SP_ENTITY_ID</th>\n",
       "      <th>SP_GEOGRAPHY</th>\n",
       "      <th>SP_COMPANY_TYPE</th>\n",
       "      <th>IQ_INDUSTRY_CLASSIFICATION</th>\n",
       "      <th>SP_COMPANY_STATUS</th>\n",
       "      <th>IQ_TOTAL_ASSETS</th>\n",
       "      <th>IQ_TOTAL_REV</th>\n",
       "      <th>IQ_TOTAL_DEBT</th>\n",
       "      <th>IQ_INTEREST_EXP</th>\n",
       "      <th>IQ_TOTAL_CA</th>\n",
       "      <th>IQ_TOTAL_CL</th>\n",
       "      <th>IQ_RETAINED_EARNINGS</th>\n",
       "      <th>IQ_EBIT</th>\n",
       "      <th>IQ_EBITDA</th>\n",
       "      <th>SNL_PRETAX_INT_COV_EXCL_AFUDC</th>\n",
       "    </tr>\n",
       "  </thead>\n",
       "  <tbody>\n",
       "    <tr>\n",
       "      <th>0</th>\n",
       "      <td>2019</td>\n",
       "      <td>\"AGBank\" OJSC</td>\n",
       "      <td>4538223</td>\n",
       "      <td>Europe</td>\n",
       "      <td>Private Company</td>\n",
       "      <td>Financials</td>\n",
       "      <td>Liquidating</td>\n",
       "      <td>NaN</td>\n",
       "      <td>NaN</td>\n",
       "      <td>NaN</td>\n",
       "      <td>NaN</td>\n",
       "      <td>NaN</td>\n",
       "      <td>NaN</td>\n",
       "      <td>NaN</td>\n",
       "      <td>NaN</td>\n",
       "      <td>NaN</td>\n",
       "      <td>NaN</td>\n",
       "    </tr>\n",
       "    <tr>\n",
       "      <th>1</th>\n",
       "      <td>2019</td>\n",
       "      <td>\"AMIO BANK\" CJSC</td>\n",
       "      <td>4559124</td>\n",
       "      <td>Europe</td>\n",
       "      <td>Private Company</td>\n",
       "      <td>Financials</td>\n",
       "      <td>Operating Subsidiary</td>\n",
       "      <td>1538862.0</td>\n",
       "      <td>31092.0</td>\n",
       "      <td>118122.0</td>\n",
       "      <td>NaN</td>\n",
       "      <td>310153.0</td>\n",
       "      <td>1358825.0</td>\n",
       "      <td>6467.0</td>\n",
       "      <td>NaN</td>\n",
       "      <td>NaN</td>\n",
       "      <td>NaN</td>\n",
       "    </tr>\n",
       "    <tr>\n",
       "      <th>2</th>\n",
       "      <td>2019</td>\n",
       "      <td>\"Bank Dabrabyt\" Joint-stock Company</td>\n",
       "      <td>4265923</td>\n",
       "      <td>Europe</td>\n",
       "      <td>Private Company</td>\n",
       "      <td>Financials</td>\n",
       "      <td>Operating</td>\n",
       "      <td>594611.0</td>\n",
       "      <td>38160.0</td>\n",
       "      <td>41650.0</td>\n",
       "      <td>NaN</td>\n",
       "      <td>181152.0</td>\n",
       "      <td>524820.0</td>\n",
       "      <td>34058.0</td>\n",
       "      <td>NaN</td>\n",
       "      <td>NaN</td>\n",
       "      <td>NaN</td>\n",
       "    </tr>\n",
       "    <tr>\n",
       "      <th>3</th>\n",
       "      <td>2019</td>\n",
       "      <td>\"DBK-Leasing\" JSC</td>\n",
       "      <td>4414560</td>\n",
       "      <td>Europe</td>\n",
       "      <td>Private Company</td>\n",
       "      <td>Financials</td>\n",
       "      <td>Operating Subsidiary</td>\n",
       "      <td>1185982.0</td>\n",
       "      <td>32798.0</td>\n",
       "      <td>661782.0</td>\n",
       "      <td>NaN</td>\n",
       "      <td>788350.0</td>\n",
       "      <td>7370.0</td>\n",
       "      <td>2303.0</td>\n",
       "      <td>NaN</td>\n",
       "      <td>NaN</td>\n",
       "      <td>NaN</td>\n",
       "    </tr>\n",
       "    <tr>\n",
       "      <th>4</th>\n",
       "      <td>2019</td>\n",
       "      <td>\"Muganbank\" Open Joint Stock Company</td>\n",
       "      <td>4552311</td>\n",
       "      <td>Europe</td>\n",
       "      <td>Private Company</td>\n",
       "      <td>Financials</td>\n",
       "      <td>Operating</td>\n",
       "      <td>355389.0</td>\n",
       "      <td>-295.0</td>\n",
       "      <td>115385.0</td>\n",
       "      <td>NaN</td>\n",
       "      <td>114803.0</td>\n",
       "      <td>218986.0</td>\n",
       "      <td>-39841.0</td>\n",
       "      <td>NaN</td>\n",
       "      <td>NaN</td>\n",
       "      <td>NaN</td>\n",
       "    </tr>\n",
       "  </tbody>\n",
       "</table>\n",
       "</div>"
      ],
      "text/plain": [
       "   year                        SP_ENTITY_NAME SP_ENTITY_ID SP_GEOGRAPHY  \\\n",
       "0  2019                         \"AGBank\" OJSC      4538223       Europe   \n",
       "1  2019                      \"AMIO BANK\" CJSC      4559124       Europe   \n",
       "2  2019   \"Bank Dabrabyt\" Joint-stock Company      4265923       Europe   \n",
       "3  2019                     \"DBK-Leasing\" JSC      4414560       Europe   \n",
       "4  2019  \"Muganbank\" Open Joint Stock Company      4552311       Europe   \n",
       "\n",
       "   SP_COMPANY_TYPE IQ_INDUSTRY_CLASSIFICATION     SP_COMPANY_STATUS  \\\n",
       "0  Private Company                 Financials           Liquidating   \n",
       "1  Private Company                 Financials  Operating Subsidiary   \n",
       "2  Private Company                 Financials             Operating   \n",
       "3  Private Company                 Financials  Operating Subsidiary   \n",
       "4  Private Company                 Financials             Operating   \n",
       "\n",
       "   IQ_TOTAL_ASSETS  IQ_TOTAL_REV  IQ_TOTAL_DEBT  IQ_INTEREST_EXP  IQ_TOTAL_CA  \\\n",
       "0              NaN           NaN            NaN              NaN          NaN   \n",
       "1        1538862.0       31092.0       118122.0              NaN     310153.0   \n",
       "2         594611.0       38160.0        41650.0              NaN     181152.0   \n",
       "3        1185982.0       32798.0       661782.0              NaN     788350.0   \n",
       "4         355389.0        -295.0       115385.0              NaN     114803.0   \n",
       "\n",
       "   IQ_TOTAL_CL  IQ_RETAINED_EARNINGS  IQ_EBIT  IQ_EBITDA  \\\n",
       "0          NaN                   NaN      NaN        NaN   \n",
       "1    1358825.0                6467.0      NaN        NaN   \n",
       "2     524820.0               34058.0      NaN        NaN   \n",
       "3       7370.0                2303.0      NaN        NaN   \n",
       "4     218986.0              -39841.0      NaN        NaN   \n",
       "\n",
       "  SNL_PRETAX_INT_COV_EXCL_AFUDC  \n",
       "0                           NaN  \n",
       "1                           NaN  \n",
       "2                           NaN  \n",
       "3                           NaN  \n",
       "4                           NaN  "
      ]
     },
     "execution_count": 200,
     "metadata": {},
     "output_type": "execute_result"
    }
   ],
   "source": [
    "# ========== VALIDACIÓN POSTERIOR ========== #\n",
    "\n",
    "# Verificamos estructura\n",
    "print(df_panel_largo.shape)\n",
    "print(df_panel_largo.dtypes)\n",
    "\n",
    "# Ejemplo de empresas con más valores nulos\n",
    "nulls = df_panel_largo.isna().mean().sort_values(ascending=False)\n",
    "print(\"\\nColumnas con más nulos:\\n\", nulls.head(10))\n",
    "\n",
    "# Vista previa\n",
    "df_panel_largo.head()"
   ]
  },
  {
   "cell_type": "code",
   "execution_count": 318,
   "id": "a9a87d60-bd9b-433a-9f6d-d272f09a262b",
   "metadata": {
    "tags": []
   },
   "outputs": [
    {
     "name": "stdout",
     "output_type": "stream",
     "text": [
      "['year', 'SP_ENTITY_NAME', 'SP_ENTITY_ID', 'SP_GEOGRAPHY', 'SP_COMPANY_TYPE', 'IQ_INDUSTRY_CLASSIFICATION', 'SP_COMPANY_STATUS', 'IQ_TOTAL_ASSETS', 'IQ_TOTAL_REV', 'IQ_TOTAL_DEBT', 'IQ_INTEREST_EXP', 'IQ_TOTAL_CA', 'IQ_TOTAL_CL', 'IQ_RETAINED_EARNINGS', 'IQ_EBIT', 'IQ_EBITDA', 'SNL_PRETAX_INT_COV_EXCL_AFUDC', 'IQ_WORKING_CAPITAL', 'Z_X1_WORKING_CAPITAL_RATIO', 'Z_X2_RE_RATIO', 'Z_X3_EBIT_RATIO', 'Z_X5_SALES_RATIO']\n"
     ]
    }
   ],
   "source": [
    "print(df_panel_largo.columns.tolist())"
   ]
  },
  {
   "cell_type": "code",
   "execution_count": null,
   "id": "5e66a458-0483-4793-b2ee-8680067db69c",
   "metadata": {},
   "outputs": [],
   "source": []
  }
 ],
 "metadata": {
  "kernelspec": {
   "display_name": "Python 3 (ipykernel)",
   "language": "python",
   "name": "python3"
  },
  "language_info": {
   "codemirror_mode": {
    "name": "ipython",
    "version": 3
   },
   "file_extension": ".py",
   "mimetype": "text/x-python",
   "name": "python",
   "nbconvert_exporter": "python",
   "pygments_lexer": "ipython3",
   "version": "3.12.2"
  }
 },
 "nbformat": 4,
 "nbformat_minor": 5
}
